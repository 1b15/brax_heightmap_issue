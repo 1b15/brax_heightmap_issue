{
 "cells": [
  {
   "cell_type": "markdown",
   "id": "3acbf503-df51-4494-8c3b-ea9cdeadef84",
   "metadata": {},
   "source": [
    "despite landing on a smooth surface, the box bounces / spins out of control after impact"
   ]
  },
  {
   "cell_type": "code",
   "execution_count": null,
   "id": "23a72a47-557c-41b9-80ec-f6765bf89866",
   "metadata": {},
   "outputs": [],
   "source": [
    "import brax\n",
    "from google.protobuf import text_format\n",
    "import jax\n",
    "\n",
    "import numpy as np\n",
    "\n",
    "from IPython.display import HTML, Image \n",
    "from brax.io import html\n",
    "from brax import jumpy as jp"
   ]
  },
  {
   "cell_type": "code",
   "execution_count": null,
   "id": "af6fcdfe-25fc-4a99-b3d9-df084efdfde9",
   "metadata": {
    "tags": []
   },
   "outputs": [],
   "source": [
    "# code from lunar lander env, specifics not relevant for this case\n",
    "VIEWPORT_W = 600\n",
    "VIEWPORT_H = 400\n",
    "\n",
    "helipad_y = VIEWPORT_H / 4\n",
    "SCALE = (VIEWPORT_H - helipad_y) / 24\n",
    "\n",
    "CHUNKS = 11\n",
    "W = VIEWPORT_W\n",
    "H = VIEWPORT_H\n",
    "height = np.random.uniform(0, H / 2, size=(CHUNKS + 1,))\n",
    "chunk_x = [W / (CHUNKS - 1) * i for i in range(CHUNKS)]\n",
    "helipad_x1 = chunk_x[CHUNKS // 2 - 1]\n",
    "helipad_x2 = chunk_x[CHUNKS // 2 + 1]\n",
    "\n",
    "height[CHUNKS // 2 - 2] = helipad_y\n",
    "height[CHUNKS // 2 - 1] = helipad_y\n",
    "height[CHUNKS // 2 + 0] = helipad_y\n",
    "height[CHUNKS // 2 + 1] = helipad_y\n",
    "height[CHUNKS // 2 + 2] = helipad_y\n",
    "smooth_y = jp.array([\n",
    "    0.33 * (height[i - 1] + height[i + 0] + height[i + 1])\n",
    "    for i in range(CHUNKS)\n",
    "])\n",
    "\n",
    "brax_heightmap = jp.repeat(smooth_y / SCALE, CHUNKS).tolist()"
   ]
  },
  {
   "cell_type": "code",
   "execution_count": null,
   "id": "074a73ff-e8c2-415f-a2d0-0f9fb910af04",
   "metadata": {},
   "outputs": [],
   "source": [
    "_CONFIG = \"\"\"\n",
    "  dt: 0.02 substeps: 4 friction: 0.98\n",
    "  gravity { z: -5 }\n",
    "  bodies {\n",
    "    name: \"lander\" mass: 0.1\n",
    "    colliders { box { halfsize { x: 1.7 y: 0.5 z: 1.4 }}}\n",
    "    inertia { x: 1.0 y: 1.0 z: 1.0 }\n",
    "  }\n",
    "  bodies {\n",
    "    name: \"Ground\"\n",
    "    colliders {\n",
    "      heightMap {\n",
    "          size: %s\n",
    "          data: %s\n",
    "      }\n",
    "    }\n",
    "    frozen { all: true }\n",
    "  }\n",
    "  forces {\n",
    "    name: \"thruster\"\n",
    "    body: \"lander\"\n",
    "    strength: 2.5\n",
    "    thruster {}\n",
    "  }\n",
    "  frozen {\n",
    "    position { y: 1.0 }\n",
    "    rotation { x: 1.0 z: 1.0 }\n",
    "  }\n",
    "  defaults {\n",
    "    qps { name: \"lander\" pos { z: 20 }}\n",
    "    qps { name: \"Ground\" pos { x: -25 y: 25 z: 0 }}\n",
    "  }\n",
    "\"\"\"%(50, brax_heightmap,)\n",
    "\n",
    "sys = brax.System(text_format.Parse(_CONFIG, brax.Config()))\n",
    "step = jax.jit(sys.step)"
   ]
  },
  {
   "cell_type": "code",
   "execution_count": null,
   "id": "07de6c8a-e93b-44a6-a042-c15b874e6d52",
   "metadata": {},
   "outputs": [],
   "source": [
    "qp = sys.default_qp()\n",
    "rollout = [qp]\n",
    "for _ in range(200):\n",
    "    qp, _ = step(qp, jp.zeros(3))\n",
    "    rollout.append(qp)"
   ]
  },
  {
   "cell_type": "code",
   "execution_count": null,
   "id": "162664bc-352e-48b9-aaf9-ceb53693f6c1",
   "metadata": {
    "tags": []
   },
   "outputs": [],
   "source": [
    "HTML(html.render(sys, rollout))"
   ]
  },
  {
   "cell_type": "code",
   "execution_count": null,
   "id": "38b8cc54-9bde-4b0d-898c-70568b91f264",
   "metadata": {},
   "outputs": [],
   "source": []
  }
 ],
 "metadata": {
  "kernelspec": {
   "display_name": "Python 3 (ipykernel)",
   "language": "python",
   "name": "python3"
  },
  "language_info": {
   "codemirror_mode": {
    "name": "ipython",
    "version": 3
   },
   "file_extension": ".py",
   "mimetype": "text/x-python",
   "name": "python",
   "nbconvert_exporter": "python",
   "pygments_lexer": "ipython3",
   "version": "3.7.10"
  }
 },
 "nbformat": 4,
 "nbformat_minor": 5
}
